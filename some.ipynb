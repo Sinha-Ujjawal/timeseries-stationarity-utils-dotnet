{
 "cells": [
  {
   "cell_type": "code",
   "execution_count": 18,
   "metadata": {},
   "outputs": [],
   "source": [
    "from scipy import stats\n",
    "import statsmodels.api as sm\n",
    "import numpy as np\n",
    "import pandas as pd"
   ]
  },
  {
   "cell_type": "code",
   "execution_count": 19,
   "metadata": {},
   "outputs": [],
   "source": [
    "df = pd.read_csv(\"./testing_datasets/SunActivities.csv\")"
   ]
  },
  {
   "cell_type": "code",
   "execution_count": 40,
   "metadata": {},
   "outputs": [
    {
     "data": {
      "text/plain": [
       "array([ 209.89836354,  273.64400804,  274.1359041 ,  298.10116907,\n",
       "        355.26381739,  400.24444862,  408.1253776 ,  416.11597506,\n",
       "        487.81264368,  627.38267263,  763.7523618 ,  831.22896349,\n",
       "        839.72757927,  844.58023952,  877.25726499,  923.30886471,\n",
       "        954.13663721,  960.13800293,  962.91765947,  992.36048334,\n",
       "       1051.41956358, 1108.21233287, 1132.74517578, 1133.42683417])"
      ]
     },
     "execution_count": 40,
     "metadata": {},
     "output_type": "execute_result"
    }
   ],
   "source": [
    "sm.tsa.acf(df[\"SUNACTIVITY\"], qstat=True)[1]"
   ]
  },
  {
   "cell_type": "code",
   "execution_count": null,
   "metadata": {},
   "outputs": [],
   "source": []
  }
 ],
 "metadata": {
  "kernelspec": {
   "display_name": "Python 3.7.6 ('py376')",
   "language": "python",
   "name": "python3"
  },
  "language_info": {
   "codemirror_mode": {
    "name": "ipython",
    "version": 3
   },
   "file_extension": ".py",
   "mimetype": "text/x-python",
   "name": "python",
   "nbconvert_exporter": "python",
   "pygments_lexer": "ipython3",
   "version": "3.7.6"
  },
  "orig_nbformat": 4,
  "vscode": {
   "interpreter": {
    "hash": "a44978b636a35a9852cd5531d2db3da2796d0614cef6e76e07e02b302f5825f6"
   }
  }
 },
 "nbformat": 4,
 "nbformat_minor": 2
}
